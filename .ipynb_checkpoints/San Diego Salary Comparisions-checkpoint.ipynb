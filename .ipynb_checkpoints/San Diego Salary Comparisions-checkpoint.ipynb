{
 "cells": [
  {
   "cell_type": "code",
   "execution_count": 1,
   "metadata": {},
   "outputs": [],
   "source": [
    "%matplotlib inline\n",
    "import pandas as pd\n",
    "import numpy as np\n",
    "import matplotlib.pyplot as plt\n",
    "import os\n",
    "\n",
    "pd.set_option('display.max_rows', 7)"
   ]
  },
  {
   "cell_type": "markdown",
   "metadata": {},
   "source": [
    "\n",
    "## San Diego City Salaries\n",
    "\n",
    "The dataset at hand includes a list of all San Diego city employee salaries for a particular year. This includes employee names and job titles, as well as the components of their total pay during the year 2017.\n",
    "\n",
    "Dataset link : https://transparentcalifornia.com/salaries/san-diego/"
   ]
  },
  {
   "cell_type": "code",
   "execution_count": 2,
   "metadata": {
    "scrolled": false
   },
   "outputs": [
    {
     "data": {
      "text/html": [
       "<div>\n",
       "<style scoped>\n",
       "    .dataframe tbody tr th:only-of-type {\n",
       "        vertical-align: middle;\n",
       "    }\n",
       "\n",
       "    .dataframe tbody tr th {\n",
       "        vertical-align: top;\n",
       "    }\n",
       "\n",
       "    .dataframe thead th {\n",
       "        text-align: right;\n",
       "    }\n",
       "</style>\n",
       "<table border=\"1\" class=\"dataframe\">\n",
       "  <thead>\n",
       "    <tr style=\"text-align: right;\">\n",
       "      <th></th>\n",
       "      <th>Employee Name</th>\n",
       "      <th>Job Title</th>\n",
       "      <th>Base Pay</th>\n",
       "      <th>Overtime Pay</th>\n",
       "      <th>Other Pay</th>\n",
       "      <th>Benefits</th>\n",
       "      <th>Total Pay</th>\n",
       "      <th>Pension Debt</th>\n",
       "      <th>Total Pay &amp; Benefits</th>\n",
       "      <th>Year</th>\n",
       "      <th>Notes</th>\n",
       "      <th>Agency</th>\n",
       "      <th>Status</th>\n",
       "    </tr>\n",
       "  </thead>\n",
       "  <tbody>\n",
       "    <tr>\n",
       "      <th>0</th>\n",
       "      <td>David P Gerboth</td>\n",
       "      <td>Fire Battalion Chief</td>\n",
       "      <td>81917.0</td>\n",
       "      <td>172590.0</td>\n",
       "      <td>68870.00</td>\n",
       "      <td>21784.0</td>\n",
       "      <td>323377.0</td>\n",
       "      <td>NaN</td>\n",
       "      <td>345161.0</td>\n",
       "      <td>2017</td>\n",
       "      <td>NaN</td>\n",
       "      <td>San Diego</td>\n",
       "      <td>FT</td>\n",
       "    </tr>\n",
       "    <tr>\n",
       "      <th>1</th>\n",
       "      <td>Scott C Chadwick</td>\n",
       "      <td>Chief Operating Officer</td>\n",
       "      <td>255000.0</td>\n",
       "      <td>0.0</td>\n",
       "      <td>31164.00</td>\n",
       "      <td>49921.0</td>\n",
       "      <td>286164.0</td>\n",
       "      <td>NaN</td>\n",
       "      <td>336085.0</td>\n",
       "      <td>2017</td>\n",
       "      <td>NaN</td>\n",
       "      <td>San Diego</td>\n",
       "      <td>FT</td>\n",
       "    </tr>\n",
       "    <tr>\n",
       "      <th>2</th>\n",
       "      <td>Glen A Bartolome</td>\n",
       "      <td>Fire Captain</td>\n",
       "      <td>85904.0</td>\n",
       "      <td>120682.0</td>\n",
       "      <td>99408.00</td>\n",
       "      <td>26470.0</td>\n",
       "      <td>305994.0</td>\n",
       "      <td>NaN</td>\n",
       "      <td>332464.0</td>\n",
       "      <td>2017</td>\n",
       "      <td>NaN</td>\n",
       "      <td>San Diego</td>\n",
       "      <td>FT</td>\n",
       "    </tr>\n",
       "    <tr>\n",
       "      <th>...</th>\n",
       "      <td>...</td>\n",
       "      <td>...</td>\n",
       "      <td>...</td>\n",
       "      <td>...</td>\n",
       "      <td>...</td>\n",
       "      <td>...</td>\n",
       "      <td>...</td>\n",
       "      <td>...</td>\n",
       "      <td>...</td>\n",
       "      <td>...</td>\n",
       "      <td>...</td>\n",
       "      <td>...</td>\n",
       "      <td>...</td>\n",
       "    </tr>\n",
       "    <tr>\n",
       "      <th>12490</th>\n",
       "      <td>Stephen J Hill</td>\n",
       "      <td>Council Rep 2 A</td>\n",
       "      <td>0.0</td>\n",
       "      <td>0.0</td>\n",
       "      <td>8.00</td>\n",
       "      <td>0.0</td>\n",
       "      <td>8.0</td>\n",
       "      <td>NaN</td>\n",
       "      <td>8.0</td>\n",
       "      <td>2017</td>\n",
       "      <td>NaN</td>\n",
       "      <td>San Diego</td>\n",
       "      <td>PT</td>\n",
       "    </tr>\n",
       "    <tr>\n",
       "      <th>12491</th>\n",
       "      <td>Tania  Serhan</td>\n",
       "      <td>Sr Mgmt Anlyst</td>\n",
       "      <td>0.0</td>\n",
       "      <td>0.0</td>\n",
       "      <td>8.00</td>\n",
       "      <td>0.0</td>\n",
       "      <td>8.0</td>\n",
       "      <td>NaN</td>\n",
       "      <td>8.0</td>\n",
       "      <td>2017</td>\n",
       "      <td>NaN</td>\n",
       "      <td>San Diego</td>\n",
       "      <td>PT</td>\n",
       "    </tr>\n",
       "    <tr>\n",
       "      <th>12492</th>\n",
       "      <td>Brian D Cassels</td>\n",
       "      <td>Police Officer</td>\n",
       "      <td>0.0</td>\n",
       "      <td>0.0</td>\n",
       "      <td>3.00</td>\n",
       "      <td>0.0</td>\n",
       "      <td>3.0</td>\n",
       "      <td>NaN</td>\n",
       "      <td>3.0</td>\n",
       "      <td>2017</td>\n",
       "      <td>NaN</td>\n",
       "      <td>San Diego</td>\n",
       "      <td>PT</td>\n",
       "    </tr>\n",
       "  </tbody>\n",
       "</table>\n",
       "<p>12493 rows × 13 columns</p>\n",
       "</div>"
      ],
      "text/plain": [
       "          Employee Name                Job Title  Base Pay  Overtime Pay  \\\n",
       "0       David P Gerboth     Fire Battalion Chief   81917.0      172590.0   \n",
       "1      Scott C Chadwick  Chief Operating Officer  255000.0           0.0   \n",
       "2      Glen A Bartolome             Fire Captain   85904.0      120682.0   \n",
       "...                 ...                      ...       ...           ...   \n",
       "12490    Stephen J Hill          Council Rep 2 A       0.0           0.0   \n",
       "12491     Tania  Serhan           Sr Mgmt Anlyst       0.0           0.0   \n",
       "12492   Brian D Cassels           Police Officer       0.0           0.0   \n",
       "\n",
       "      Other Pay  Benefits  Total Pay  Pension Debt  Total Pay & Benefits  \\\n",
       "0      68870.00   21784.0   323377.0           NaN              345161.0   \n",
       "1      31164.00   49921.0   286164.0           NaN              336085.0   \n",
       "2      99408.00   26470.0   305994.0           NaN              332464.0   \n",
       "...         ...       ...        ...           ...                   ...   \n",
       "12490      8.00       0.0        8.0           NaN                   8.0   \n",
       "12491      8.00       0.0        8.0           NaN                   8.0   \n",
       "12492      3.00       0.0        3.0           NaN                   3.0   \n",
       "\n",
       "       Year  Notes     Agency Status  \n",
       "0      2017    NaN  San Diego     FT  \n",
       "1      2017    NaN  San Diego     FT  \n",
       "2      2017    NaN  San Diego     FT  \n",
       "...     ...    ...        ...    ...  \n",
       "12490  2017    NaN  San Diego     PT  \n",
       "12491  2017    NaN  San Diego     PT  \n",
       "12492  2017    NaN  San Diego     PT  \n",
       "\n",
       "[12493 rows x 13 columns]"
      ]
     },
     "execution_count": 2,
     "metadata": {},
     "output_type": "execute_result"
    }
   ],
   "source": [
    "salary_path = os.path.join('data', 'san-diego-2017.csv')\n",
    "salaries = pd.read_csv(salary_path)\n",
    "salaries.reset_index(drop=True)"
   ]
  },
  {
   "cell_type": "markdown",
   "metadata": {
    "slideshow": {
     "slide_type": "slide"
    }
   },
   "source": [
    "### Basic description of employee pay\n",
    "\n",
    "The table below contains a basic of description of employee pay. What does typical pay look like? "
   ]
  },
  {
   "cell_type": "code",
   "execution_count": 3,
   "metadata": {},
   "outputs": [
    {
     "data": {
      "text/html": [
       "<div>\n",
       "<style scoped>\n",
       "    .dataframe tbody tr th:only-of-type {\n",
       "        vertical-align: middle;\n",
       "    }\n",
       "\n",
       "    .dataframe tbody tr th {\n",
       "        vertical-align: top;\n",
       "    }\n",
       "\n",
       "    .dataframe thead th {\n",
       "        text-align: right;\n",
       "    }\n",
       "</style>\n",
       "<table border=\"1\" class=\"dataframe\">\n",
       "  <thead>\n",
       "    <tr style=\"text-align: right;\">\n",
       "      <th></th>\n",
       "      <th>count</th>\n",
       "      <th>mean</th>\n",
       "      <th>std</th>\n",
       "      <th>min</th>\n",
       "      <th>25%</th>\n",
       "      <th>50%</th>\n",
       "      <th>75%</th>\n",
       "      <th>max</th>\n",
       "    </tr>\n",
       "  </thead>\n",
       "  <tbody>\n",
       "    <tr>\n",
       "      <th>Base Pay</th>\n",
       "      <td>12493.0</td>\n",
       "      <td>48843.853918</td>\n",
       "      <td>29377.449188</td>\n",
       "      <td>0.0</td>\n",
       "      <td>28888.0</td>\n",
       "      <td>49254.0</td>\n",
       "      <td>68952.0</td>\n",
       "      <td>255000.0</td>\n",
       "    </tr>\n",
       "    <tr>\n",
       "      <th>Overtime Pay</th>\n",
       "      <td>12493.0</td>\n",
       "      <td>6573.031858</td>\n",
       "      <td>15308.455700</td>\n",
       "      <td>-623.0</td>\n",
       "      <td>0.0</td>\n",
       "      <td>393.0</td>\n",
       "      <td>5408.0</td>\n",
       "      <td>196978.0</td>\n",
       "    </tr>\n",
       "    <tr>\n",
       "      <th>Benefits</th>\n",
       "      <td>12493.0</td>\n",
       "      <td>12853.013207</td>\n",
       "      <td>9199.780447</td>\n",
       "      <td>-29.0</td>\n",
       "      <td>5262.0</td>\n",
       "      <td>12483.0</td>\n",
       "      <td>18633.0</td>\n",
       "      <td>81633.0</td>\n",
       "    </tr>\n",
       "    <tr>\n",
       "      <th>...</th>\n",
       "      <td>...</td>\n",
       "      <td>...</td>\n",
       "      <td>...</td>\n",
       "      <td>...</td>\n",
       "      <td>...</td>\n",
       "      <td>...</td>\n",
       "      <td>...</td>\n",
       "      <td>...</td>\n",
       "    </tr>\n",
       "    <tr>\n",
       "      <th>Total Pay &amp; Benefits</th>\n",
       "      <td>12493.0</td>\n",
       "      <td>77837.984231</td>\n",
       "      <td>49224.288964</td>\n",
       "      <td>3.0</td>\n",
       "      <td>46218.0</td>\n",
       "      <td>74289.0</td>\n",
       "      <td>109483.0</td>\n",
       "      <td>345161.0</td>\n",
       "    </tr>\n",
       "    <tr>\n",
       "      <th>Year</th>\n",
       "      <td>12493.0</td>\n",
       "      <td>2017.000000</td>\n",
       "      <td>0.000000</td>\n",
       "      <td>2017.0</td>\n",
       "      <td>2017.0</td>\n",
       "      <td>2017.0</td>\n",
       "      <td>2017.0</td>\n",
       "      <td>2017.0</td>\n",
       "    </tr>\n",
       "    <tr>\n",
       "      <th>Notes</th>\n",
       "      <td>0.0</td>\n",
       "      <td>NaN</td>\n",
       "      <td>NaN</td>\n",
       "      <td>NaN</td>\n",
       "      <td>NaN</td>\n",
       "      <td>NaN</td>\n",
       "      <td>NaN</td>\n",
       "      <td>NaN</td>\n",
       "    </tr>\n",
       "  </tbody>\n",
       "</table>\n",
       "<p>8 rows × 8 columns</p>\n",
       "</div>"
      ],
      "text/plain": [
       "                        count          mean           std     min      25%  \\\n",
       "Base Pay              12493.0  48843.853918  29377.449188     0.0  28888.0   \n",
       "Overtime Pay          12493.0   6573.031858  15308.455700  -623.0      0.0   \n",
       "Benefits              12493.0  12853.013207   9199.780447   -29.0   5262.0   \n",
       "...                       ...           ...           ...     ...      ...   \n",
       "Total Pay & Benefits  12493.0  77837.984231  49224.288964     3.0  46218.0   \n",
       "Year                  12493.0   2017.000000      0.000000  2017.0   2017.0   \n",
       "Notes                     0.0           NaN           NaN     NaN      NaN   \n",
       "\n",
       "                          50%       75%       max  \n",
       "Base Pay              49254.0   68952.0  255000.0  \n",
       "Overtime Pay            393.0    5408.0  196978.0  \n",
       "Benefits              12483.0   18633.0   81633.0  \n",
       "...                       ...       ...       ...  \n",
       "Total Pay & Benefits  74289.0  109483.0  345161.0  \n",
       "Year                   2017.0    2017.0    2017.0  \n",
       "Notes                     NaN       NaN       NaN  \n",
       "\n",
       "[8 rows x 8 columns]"
      ]
     },
     "execution_count": 3,
     "metadata": {},
     "output_type": "execute_result"
    }
   ],
   "source": [
    "salaries.describe().T"
   ]
  },
  {
   "cell_type": "markdown",
   "metadata": {
    "slideshow": {
     "slide_type": "notes"
    }
   },
   "source": [
    "Observations:\n",
    "* What are the negative payments? Near zero salaries?\n",
    "* Other pay column is not present\n",
    "* Are the salaries in the 'max' column real?"
   ]
  },
  {
   "cell_type": "markdown",
   "metadata": {
    "slideshow": {
     "slide_type": "slide"
    }
   },
   "source": [
    "### Empirical Distribution of Salaries\n",
    ". Plotting the empirical distribution of salaries raises two observations:\n",
    "* The distribution is 'bimodal' and is likely comprised of two distributions.\n",
    "* The salaries have a skew to the right, which is typical for a quantity that can only be non-negative."
   ]
  },
  {
   "cell_type": "code",
   "execution_count": 4,
   "metadata": {},
   "outputs": [
    {
     "data": {
      "image/png": "[encoded data removed]",
      "text/plain": [
       "<Figure size 640x480 with 1 Axes>"
      ]
     },
     "metadata": {},
     "output_type": "display_data"
    }
   ],
   "source": [
    "salaries['Total Pay'].plot(kind='hist', bins=50, density=True, title='distribution of Total Salaries');"
   ]
  },
  {
   "cell_type": "markdown",
   "metadata": {
    "slideshow": {
     "slide_type": "slide"
    }
   },
   "source": [
    "A reasonable guess for the bimodal nature of the distribution of salaries is the employment status. One would expect salaries to vary significantly based on whether an employee works Part-time versus Full-time. Splitting the population up by job status reveals two distributions:\n",
    "* The part-time jobs tend to have lower salaries, closer to 0,\n",
    "* The full-time jobs tends to have salaries centered around 80,000 USD."
   ]
  },
  {
   "cell_type": "code",
   "execution_count": 5,
   "metadata": {},
   "outputs": [
    {
     "data": {
      "image/png": "[encoded data removed]",
      "text/plain": [
       "<Figure size 640x480 with 1 Axes>"
      ]
     },
     "metadata": {},
     "output_type": "display_data"
    }
   ],
   "source": [
    "bystatus = salaries.groupby('Status')\n",
    "bystatus['Total Pay'].plot(kind='kde', alpha=0.5, title='Salary by Full-time/Part-time')\n",
    "plt.legend(bystatus.groups);"
   ]
  },
  {
   "cell_type": "code",
   "execution_count": 6,
   "metadata": {},
   "outputs": [],
   "source": [
    "salaries = salaries[['Employee Name', 'Job Title', 'Total Pay', 'Status']].copy()"
   ]
  },
  {
   "cell_type": "markdown",
   "metadata": {
    "slideshow": {
     "slide_type": "slide"
    }
   },
   "source": [
    "### Do women earn similar pay to their contemporaries?\n",
    "\n",
    "\n",
    "One problem : this dataset doesn't contain information on the gender of employees. The dataset does have the first names of employees, which contains imperfect information about gender. A reasonable approach is to find a dataset that contains information about correspondences between names and gender, the Social Security Administration publishes a \"baby names\" dataset that does exactly this."
   ]
  },
  {
   "cell_type": "markdown",
   "metadata": {
    "slideshow": {
     "slide_type": "slide"
    }
   },
   "source": [
    "### SSA names dataset\n",
    "\n",
    "The Social Security Administration compiles a list of all names on social security applications in a given year, whether the applicant identified as Male or Female. This list can then be used to label the most likely gender of the employees using their first names.\n",
    "\n",
    "Dataset link : https://www.ssa.gov/oact/babynames/limits.html"
   ]
  },
  {
   "cell_type": "code",
   "execution_count": 7,
   "metadata": {},
   "outputs": [
    {
     "data": {
      "text/html": [
       "<div>\n",
       "<style scoped>\n",
       "    .dataframe tbody tr th:only-of-type {\n",
       "        vertical-align: middle;\n",
       "    }\n",
       "\n",
       "    .dataframe tbody tr th {\n",
       "        vertical-align: top;\n",
       "    }\n",
       "\n",
       "    .dataframe thead th {\n",
       "        text-align: right;\n",
       "    }\n",
       "</style>\n",
       "<table border=\"1\" class=\"dataframe\">\n",
       "  <thead>\n",
       "    <tr style=\"text-align: right;\">\n",
       "      <th></th>\n",
       "      <th>firstname</th>\n",
       "      <th>gender</th>\n",
       "      <th>count</th>\n",
       "      <th>year</th>\n",
       "    </tr>\n",
       "  </thead>\n",
       "  <tbody>\n",
       "    <tr>\n",
       "      <th>0</th>\n",
       "      <td>Emily</td>\n",
       "      <td>F</td>\n",
       "      <td>25956</td>\n",
       "      <td>2000</td>\n",
       "    </tr>\n",
       "    <tr>\n",
       "      <th>1</th>\n",
       "      <td>Hannah</td>\n",
       "      <td>F</td>\n",
       "      <td>23082</td>\n",
       "      <td>2000</td>\n",
       "    </tr>\n",
       "    <tr>\n",
       "      <th>2</th>\n",
       "      <td>Madison</td>\n",
       "      <td>F</td>\n",
       "      <td>19968</td>\n",
       "      <td>2000</td>\n",
       "    </tr>\n",
       "    <tr>\n",
       "      <th>3</th>\n",
       "      <td>Ashley</td>\n",
       "      <td>F</td>\n",
       "      <td>17997</td>\n",
       "      <td>2000</td>\n",
       "    </tr>\n",
       "    <tr>\n",
       "      <th>4</th>\n",
       "      <td>Sarah</td>\n",
       "      <td>F</td>\n",
       "      <td>17702</td>\n",
       "      <td>2000</td>\n",
       "    </tr>\n",
       "  </tbody>\n",
       "</table>\n",
       "</div>"
      ],
      "text/plain": [
       "  firstname gender  count  year\n",
       "0     Emily      F  25956  2000\n",
       "1    Hannah      F  23082  2000\n",
       "2   Madison      F  19968  2000\n",
       "3    Ashley      F  17997  2000\n",
       "4     Sarah      F  17702  2000"
      ]
     },
     "execution_count": 7,
     "metadata": {},
     "output_type": "execute_result"
    }
   ],
   "source": [
    "from glob import glob\n",
    "import os\n",
    "\n",
    "names_path = os.path.join('data', 'names.csv')\n",
    "names = pd.read_csv(names_path)\n",
    "names.head()"
   ]
  },
  {
   "cell_type": "markdown",
   "metadata": {
    "slideshow": {
     "slide_type": "slide"
    }
   },
   "source": [
    "### Basic check of names:\n",
    "\n",
    "There are a number of details to attend to in SSA dataset:\n",
    "* Many names identify to both genders (gender-neutral names).\n",
    "* Most names occur only a few times per year (most names are rare).\n",
    "* A few names make up most the applications.\n",
    "\n",
    "Notice, the name \"Madison\" is mostly identified as female, though there are consistently a few males with that name as well:"
   ]
  },
  {
   "cell_type": "code",
   "execution_count": 8,
   "metadata": {
    "scrolled": true
   },
   "outputs": [
    {
     "data": {
      "text/html": [
       "<div>\n",
       "<style scoped>\n",
       "    .dataframe tbody tr th:only-of-type {\n",
       "        vertical-align: middle;\n",
       "    }\n",
       "\n",
       "    .dataframe tbody tr th {\n",
       "        vertical-align: top;\n",
       "    }\n",
       "\n",
       "    .dataframe thead th {\n",
       "        text-align: right;\n",
       "    }\n",
       "</style>\n",
       "<table border=\"1\" class=\"dataframe\">\n",
       "  <thead>\n",
       "    <tr style=\"text-align: right;\">\n",
       "      <th></th>\n",
       "      <th>firstname</th>\n",
       "      <th>gender</th>\n",
       "      <th>count</th>\n",
       "      <th>year</th>\n",
       "    </tr>\n",
       "  </thead>\n",
       "  <tbody>\n",
       "    <tr>\n",
       "      <th>1887827</th>\n",
       "      <td>Madison</td>\n",
       "      <td>M</td>\n",
       "      <td>36</td>\n",
       "      <td>2018</td>\n",
       "    </tr>\n",
       "    <tr>\n",
       "      <th>1866629</th>\n",
       "      <td>Madison</td>\n",
       "      <td>F</td>\n",
       "      <td>7036</td>\n",
       "      <td>2018</td>\n",
       "    </tr>\n",
       "    <tr>\n",
       "      <th>161087</th>\n",
       "      <td>Madison</td>\n",
       "      <td>F</td>\n",
       "      <td>7875</td>\n",
       "      <td>2017</td>\n",
       "    </tr>\n",
       "    <tr>\n",
       "      <th>...</th>\n",
       "      <td>...</td>\n",
       "      <td>...</td>\n",
       "      <td>...</td>\n",
       "      <td>...</td>\n",
       "    </tr>\n",
       "    <tr>\n",
       "      <th>1932167</th>\n",
       "      <td>Madison</td>\n",
       "      <td>M</td>\n",
       "      <td>27</td>\n",
       "      <td>1882</td>\n",
       "    </tr>\n",
       "    <tr>\n",
       "      <th>1843222</th>\n",
       "      <td>Madison</td>\n",
       "      <td>M</td>\n",
       "      <td>28</td>\n",
       "      <td>1881</td>\n",
       "    </tr>\n",
       "    <tr>\n",
       "      <th>1841285</th>\n",
       "      <td>Madison</td>\n",
       "      <td>M</td>\n",
       "      <td>22</td>\n",
       "      <td>1880</td>\n",
       "    </tr>\n",
       "  </tbody>\n",
       "</table>\n",
       "<p>178 rows × 4 columns</p>\n",
       "</div>"
      ],
      "text/plain": [
       "        firstname gender  count  year\n",
       "1887827   Madison      M     36  2018\n",
       "1866629   Madison      F   7036  2018\n",
       "161087    Madison      F   7875  2017\n",
       "...           ...    ...    ...   ...\n",
       "1932167   Madison      M     27  1882\n",
       "1843222   Madison      M     28  1881\n",
       "1841285   Madison      M     22  1880\n",
       "\n",
       "[178 rows x 4 columns]"
      ]
     },
     "execution_count": 8,
     "metadata": {},
     "output_type": "execute_result"
    }
   ],
   "source": [
    "# look at a single name\n",
    "names[names['firstname'] == 'Madison'].sort_values(by='year', ascending=False)"
   ]
  },
  {
   "cell_type": "markdown",
   "metadata": {
    "slideshow": {
     "slide_type": "slide"
    }
   },
   "source": [
    "### Approach to joining gender:\n",
    "\n",
    "* Create a table of distinct names with the proportion of applications on which that name identifies as female. \n",
    "* That is, for each name $N$, compute:\n",
    "\n",
    "$$P({\\rm person\\ is\\ female\\ }|{\\rm \\ person\\ has\\ first\\ name\\ } N)$$\n",
    "\n",
    "* Join this table to the salaries dataset.\n"
   ]
  },
  {
   "cell_type": "code",
   "execution_count": 9,
   "metadata": {},
   "outputs": [
    {
     "data": {
      "text/html": [
       "<div>\n",
       "<style scoped>\n",
       "    .dataframe tbody tr th:only-of-type {\n",
       "        vertical-align: middle;\n",
       "    }\n",
       "\n",
       "    .dataframe tbody tr th {\n",
       "        vertical-align: top;\n",
       "    }\n",
       "\n",
       "    .dataframe thead th {\n",
       "        text-align: right;\n",
       "    }\n",
       "</style>\n",
       "<table border=\"1\" class=\"dataframe\">\n",
       "  <thead>\n",
       "    <tr style=\"text-align: right;\">\n",
       "      <th>gender</th>\n",
       "      <th>F</th>\n",
       "      <th>M</th>\n",
       "    </tr>\n",
       "    <tr>\n",
       "      <th>firstname</th>\n",
       "      <th></th>\n",
       "      <th></th>\n",
       "    </tr>\n",
       "  </thead>\n",
       "  <tbody>\n",
       "    <tr>\n",
       "      <th>Aaron</th>\n",
       "      <td>4307</td>\n",
       "      <td>581330</td>\n",
       "    </tr>\n",
       "    <tr>\n",
       "      <th>Maria</th>\n",
       "      <td>546026</td>\n",
       "      <td>4237</td>\n",
       "    </tr>\n",
       "    <tr>\n",
       "      <th>Dakota</th>\n",
       "      <td>33204</td>\n",
       "      <td>86089</td>\n",
       "    </tr>\n",
       "    <tr>\n",
       "      <th>Ashley</th>\n",
       "      <td>846120</td>\n",
       "      <td>15668</td>\n",
       "    </tr>\n",
       "    <tr>\n",
       "      <th>Avery</th>\n",
       "      <td>125883</td>\n",
       "      <td>55646</td>\n",
       "    </tr>\n",
       "    <tr>\n",
       "      <th>Paris</th>\n",
       "      <td>28841</td>\n",
       "      <td>8812</td>\n",
       "    </tr>\n",
       "  </tbody>\n",
       "</table>\n",
       "</div>"
      ],
      "text/plain": [
       "gender          F       M\n",
       "firstname                \n",
       "Aaron        4307  581330\n",
       "Maria      546026    4237\n",
       "Dakota      33204   86089\n",
       "Ashley     846120   15668\n",
       "Avery      125883   55646\n",
       "Paris       28841    8812"
      ]
     },
     "execution_count": 9,
     "metadata": {},
     "output_type": "execute_result"
    }
   ],
   "source": [
    "# Counts by gender\n",
    "cnts_by_gender = names.pivot_table(\n",
    "    index='firstname', \n",
    "    columns=['gender'], \n",
    "    values='count', \n",
    "    aggfunc='sum', \n",
    "    fill_value=0\n",
    ")\n",
    "\n",
    "names_idx = ['Aaron', 'Maria', 'Dakota', 'Ashley', 'Avery', 'Paris']\n",
    "cnts_by_gender.loc[names_idx, :]"
   ]
  },
  {
   "cell_type": "markdown",
   "metadata": {},
   "source": [
    "From the total counts in the above table, calculate the proportion of a given name that's identified as female. If this number is greater than 0.5, then the name is likely associated to female; otherwise the name mostly associates to male."
   ]
  },
  {
   "cell_type": "code",
   "execution_count": 10,
   "metadata": {},
   "outputs": [
    {
     "data": {
      "text/html": [
       "<div>\n",
       "<style scoped>\n",
       "    .dataframe tbody tr th:only-of-type {\n",
       "        vertical-align: middle;\n",
       "    }\n",
       "\n",
       "    .dataframe tbody tr th {\n",
       "        vertical-align: top;\n",
       "    }\n",
       "\n",
       "    .dataframe thead th {\n",
       "        text-align: right;\n",
       "    }\n",
       "</style>\n",
       "<table border=\"1\" class=\"dataframe\">\n",
       "  <thead>\n",
       "    <tr style=\"text-align: right;\">\n",
       "      <th></th>\n",
       "      <th>proportion of a given name that's identified as female</th>\n",
       "      <th>gender</th>\n",
       "    </tr>\n",
       "    <tr>\n",
       "      <th>firstname</th>\n",
       "      <th></th>\n",
       "      <th></th>\n",
       "    </tr>\n",
       "  </thead>\n",
       "  <tbody>\n",
       "    <tr>\n",
       "      <th>Aaron</th>\n",
       "      <td>0.007354</td>\n",
       "      <td>M</td>\n",
       "    </tr>\n",
       "    <tr>\n",
       "      <th>Maria</th>\n",
       "      <td>0.992300</td>\n",
       "      <td>F</td>\n",
       "    </tr>\n",
       "    <tr>\n",
       "      <th>Dakota</th>\n",
       "      <td>0.278340</td>\n",
       "      <td>M</td>\n",
       "    </tr>\n",
       "    <tr>\n",
       "      <th>Ashley</th>\n",
       "      <td>0.981819</td>\n",
       "      <td>F</td>\n",
       "    </tr>\n",
       "    <tr>\n",
       "      <th>Avery</th>\n",
       "      <td>0.693459</td>\n",
       "      <td>F</td>\n",
       "    </tr>\n",
       "    <tr>\n",
       "      <th>Paris</th>\n",
       "      <td>0.765968</td>\n",
       "      <td>F</td>\n",
       "    </tr>\n",
       "  </tbody>\n",
       "</table>\n",
       "</div>"
      ],
      "text/plain": [
       "           proportion of a given name that's identified as female gender\n",
       "firstname                                                               \n",
       "Aaron                                               0.007354           M\n",
       "Maria                                               0.992300           F\n",
       "Dakota                                              0.278340           M\n",
       "Ashley                                              0.981819           F\n",
       "Avery                                               0.693459           F\n",
       "Paris                                               0.765968           F"
      ]
     },
     "execution_count": 10,
     "metadata": {},
     "output_type": "execute_result"
    }
   ],
   "source": [
    "# proportion of a given name that's identified female\n",
    "prop_female = (cnts_by_gender['F'] / cnts_by_gender.sum(axis=1))\n",
    "genders = (\n",
    "    prop_female.rename('proportion of a given name that\\'s identified as female').to_frame()\n",
    "    .assign(**{'gender': \n",
    "               prop_female.apply(lambda x:'F' if x > 0.5 else 'M').rename('prop_female').to_frame()\n",
    "              }))\n",
    "\n",
    "genders.loc[names_idx]"
   ]
  },
  {
   "cell_type": "markdown",
   "metadata": {
    "slideshow": {
     "slide_type": "slide"
    }
   },
   "source": [
    "### Add a given name column to salaries and join names\n",
    "\n",
    "This table of names and their most likely gender attaches a 'most likely gender' to the employees in the salaries dataset. This identification is approximate and doesn't reflect the actual gender with which the employees identify."
   ]
  },
  {
   "cell_type": "code",
   "execution_count": 11,
   "metadata": {},
   "outputs": [
    {
     "data": {
      "text/html": [
       "<div>\n",
       "<style scoped>\n",
       "    .dataframe tbody tr th:only-of-type {\n",
       "        vertical-align: middle;\n",
       "    }\n",
       "\n",
       "    .dataframe tbody tr th {\n",
       "        vertical-align: top;\n",
       "    }\n",
       "\n",
       "    .dataframe thead th {\n",
       "        text-align: right;\n",
       "    }\n",
       "</style>\n",
       "<table border=\"1\" class=\"dataframe\">\n",
       "  <thead>\n",
       "    <tr style=\"text-align: right;\">\n",
       "      <th></th>\n",
       "      <th>Employee Name</th>\n",
       "      <th>Job Title</th>\n",
       "      <th>Total Pay</th>\n",
       "      <th>Status</th>\n",
       "      <th>firstname</th>\n",
       "      <th>proportion of a given name that's identified as female</th>\n",
       "      <th>gender</th>\n",
       "    </tr>\n",
       "  </thead>\n",
       "  <tbody>\n",
       "    <tr>\n",
       "      <th>0</th>\n",
       "      <td>James L Gaboury</td>\n",
       "      <td>Deputy Fire Chief</td>\n",
       "      <td>185560.0</td>\n",
       "      <td>FT</td>\n",
       "      <td>James</td>\n",
       "      <td>0.004510</td>\n",
       "      <td>M</td>\n",
       "    </tr>\n",
       "    <tr>\n",
       "      <th>1</th>\n",
       "      <td>Francisco  Lizarraga</td>\n",
       "      <td>Seven-Gang Mower Operator</td>\n",
       "      <td>47954.0</td>\n",
       "      <td>FT</td>\n",
       "      <td>Francisco</td>\n",
       "      <td>0.007064</td>\n",
       "      <td>M</td>\n",
       "    </tr>\n",
       "    <tr>\n",
       "      <th>2</th>\n",
       "      <td>Hanna K Johnston</td>\n",
       "      <td>Lifeguard 1</td>\n",
       "      <td>11415.0</td>\n",
       "      <td>PT</td>\n",
       "      <td>Hanna</td>\n",
       "      <td>0.996534</td>\n",
       "      <td>F</td>\n",
       "    </tr>\n",
       "    <tr>\n",
       "      <th>3</th>\n",
       "      <td>Thien-Long Q Tran</td>\n",
       "      <td>Jr Engineer-Civil</td>\n",
       "      <td>67858.0</td>\n",
       "      <td>FT</td>\n",
       "      <td>Thien-Long</td>\n",
       "      <td>NaN</td>\n",
       "      <td>NaN</td>\n",
       "    </tr>\n",
       "    <tr>\n",
       "      <th>4</th>\n",
       "      <td>Rebecca S Vela</td>\n",
       "      <td>Court Support Clrk 1</td>\n",
       "      <td>25943.0</td>\n",
       "      <td>PT</td>\n",
       "      <td>Rebecca</td>\n",
       "      <td>0.997186</td>\n",
       "      <td>F</td>\n",
       "    </tr>\n",
       "  </tbody>\n",
       "</table>\n",
       "</div>"
      ],
      "text/plain": [
       "          Employee Name                  Job Title  Total Pay Status  \\\n",
       "0       James L Gaboury          Deputy Fire Chief   185560.0     FT   \n",
       "1  Francisco  Lizarraga  Seven-Gang Mower Operator    47954.0     FT   \n",
       "2      Hanna K Johnston                Lifeguard 1    11415.0     PT   \n",
       "3     Thien-Long Q Tran          Jr Engineer-Civil    67858.0     FT   \n",
       "4        Rebecca S Vela       Court Support Clrk 1    25943.0     PT   \n",
       "\n",
       "    firstname  proportion of a given name that's identified as female gender  \n",
       "0       James                                           0.004510           M  \n",
       "1   Francisco                                           0.007064           M  \n",
       "2       Hanna                                           0.996534           F  \n",
       "3  Thien-Long                                                NaN         NaN  \n",
       "4     Rebecca                                           0.997186           F  "
      ]
     },
     "execution_count": 11,
     "metadata": {},
     "output_type": "execute_result"
    }
   ],
   "source": [
    "# Add firstname column\n",
    "salaries.loc[:, 'firstname'] = salaries['Employee Name'].str.split().apply(lambda x:x[0])\n",
    "\n",
    "# join gender\n",
    "salaries_with_gender = salaries.merge(genders.reset_index(), on='firstname', how='left')\n",
    "salaries_with_gender.sample(5).reset_index(drop=True)"
   ]
  },
  {
   "cell_type": "markdown",
   "metadata": {
    "slideshow": {
     "slide_type": "slide"
    }
   },
   "source": [
    "### Do women earn similar pay to their contemporaries?\n",
    "\n",
    "With a most likely gender attached to the salaries dataset, the salaries can now be described by gender:"
   ]
  },
  {
   "cell_type": "code",
   "execution_count": 12,
   "metadata": {
    "scrolled": true
   },
   "outputs": [
    {
     "data": {
      "text/html": [
       "<div>\n",
       "<style scoped>\n",
       "    .dataframe tbody tr th:only-of-type {\n",
       "        vertical-align: middle;\n",
       "    }\n",
       "\n",
       "    .dataframe tbody tr th {\n",
       "        vertical-align: top;\n",
       "    }\n",
       "\n",
       "    .dataframe thead th {\n",
       "        text-align: right;\n",
       "    }\n",
       "</style>\n",
       "<table border=\"1\" class=\"dataframe\">\n",
       "  <thead>\n",
       "    <tr style=\"text-align: right;\">\n",
       "      <th></th>\n",
       "      <th>F</th>\n",
       "      <th>M</th>\n",
       "      <th>All</th>\n",
       "    </tr>\n",
       "  </thead>\n",
       "  <tbody>\n",
       "    <tr>\n",
       "      <th>count</th>\n",
       "      <td>4153.000000</td>\n",
       "      <td>7895.000000</td>\n",
       "      <td>12493.000000</td>\n",
       "    </tr>\n",
       "    <tr>\n",
       "      <th>mean</th>\n",
       "      <td>53946.543703</td>\n",
       "      <td>71239.687017</td>\n",
       "      <td>64984.971024</td>\n",
       "    </tr>\n",
       "    <tr>\n",
       "      <th>std</th>\n",
       "      <td>36254.857386</td>\n",
       "      <td>43430.325681</td>\n",
       "      <td>41812.990357</td>\n",
       "    </tr>\n",
       "    <tr>\n",
       "      <th>...</th>\n",
       "      <td>...</td>\n",
       "      <td>...</td>\n",
       "      <td>...</td>\n",
       "    </tr>\n",
       "    <tr>\n",
       "      <th>50%</th>\n",
       "      <td>50787.000000</td>\n",
       "      <td>67920.000000</td>\n",
       "      <td>61452.000000</td>\n",
       "    </tr>\n",
       "    <tr>\n",
       "      <th>75%</th>\n",
       "      <td>75127.000000</td>\n",
       "      <td>100729.000000</td>\n",
       "      <td>91400.000000</td>\n",
       "    </tr>\n",
       "    <tr>\n",
       "      <th>max</th>\n",
       "      <td>237512.000000</td>\n",
       "      <td>323377.000000</td>\n",
       "      <td>323377.000000</td>\n",
       "    </tr>\n",
       "  </tbody>\n",
       "</table>\n",
       "<p>8 rows × 3 columns</p>\n",
       "</div>"
      ],
      "text/plain": [
       "                   F              M            All\n",
       "count    4153.000000    7895.000000   12493.000000\n",
       "mean    53946.543703   71239.687017   64984.971024\n",
       "std     36254.857386   43430.325681   41812.990357\n",
       "...              ...            ...            ...\n",
       "50%     50787.000000   67920.000000   61452.000000\n",
       "75%     75127.000000  100729.000000   91400.000000\n",
       "max    237512.000000  323377.000000  323377.000000\n",
       "\n",
       "[8 rows x 3 columns]"
      ]
     },
     "execution_count": 12,
     "metadata": {},
     "output_type": "execute_result"
    }
   ],
   "source": [
    "pd.concat([\n",
    "    salaries_with_gender.groupby('gender')['Total Pay'].describe().T,\n",
    "    salaries_with_gender['Total Pay'].describe().rename('All')\n",
    "], axis=1)"
   ]
  },
  {
   "cell_type": "markdown",
   "metadata": {},
   "source": [
    "There is clearly a large difference in salaries between the males and females! Some points to think before giving out any conclusions!\n",
    "* Is this difference the result of some sort of true unfairness, or perhaps the difference is just due to chance?\n",
    "* If the difference isn't due to chance, why does it exist?"
   ]
  },
  {
   "cell_type": "markdown",
   "metadata": {
    "slideshow": {
     "slide_type": "slide"
    }
   },
   "source": [
    "\n",
    "\n",
    "Can women's median pay be explained as a random subset of the population of city of SD salaries?\n",
    "\n",
    "If so, the salary of women doesn't significantly differ from the population; otherwise, some other explanation is needed to explain the difference!\n",
    "\n",
    "We can perform a hypothesis test to answer this question. \n",
    "* Random subsets of employees are drawn from the dataset, of the same size as the number of female employees,\n",
    "* The median salary of each of these random groups is calculated,\n",
    "* The observed salary of female employees is compared to the simulated 'randomly drawn' median salaries.\n",
    "Finally, one asks if the observed, real-life salary was just as likely drawn from a random subset of employees. If so, then the observed difference may have occurred due to chance; otherwise, something else is going on!\n",
    "\n",
    "The plot below illustrates the results of this simulation:\n",
    "* The blue distribution represents the median salaries of these 'randomly formed groups'.\n",
    "* The orange dot represents the real-life median female salary.\n",
    "\n",
    "It seems unlikely this difference is due to chance!"
   ]
  },
  {
   "cell_type": "code",
   "execution_count": 13,
   "metadata": {},
   "outputs": [
    {
     "data": {
      "image/png": "[encoded data removed]",
      "text/plain": [
       "<Figure size 640x480 with 1 Axes>"
      ]
     },
     "metadata": {},
     "output_type": "display_data"
    }
   ],
   "source": [
    "# size of sample is number of women:\n",
    "n_female = (salaries_with_gender['gender'] == 'F').sum()\n",
    "\n",
    "\n",
    "# calculate observed \n",
    "female_median = salaries_with_gender.loc[salaries_with_gender['gender'] == 'F']['Total Pay'].median()\n",
    "\n",
    "\n",
    "# simulate 1000 draws from the population of size n_female\n",
    "medians = []\n",
    "for _ in np.arange(1000):\n",
    "    median = salaries_with_gender.sample(n_female)['Total Pay'].median()\n",
    "    medians.append(median)\n",
    "    \n",
    "    \n",
    "title='Median salary of randomly chosen groups from population'\n",
    "pd.Series(medians).plot(kind='hist', title=title);\n",
    "plt.plot([female_median], [0], marker='o', markersize=10)\n",
    "plt.legend(['Observed Median Salary of Women', 'Median Salaries of Random Groups']);"
   ]
  },
  {
   "cell_type": "markdown",
   "metadata": {
    "slideshow": {
     "slide_type": "slide"
    }
   },
   "source": [
    "\n",
    "Now that the question of differences in the salaries of genders is answered, however there are still some more questions. \n",
    "\n",
    "First, are the results correct?\n",
    "* Is the name-to-gender assignment correct (enough)?\n",
    "* What biases might have been introduced when joining the dataset of names to salaries?\n",
    "* Are the results applicable outside of 2017? outside of San Diego? \n",
    "\n",
    "Second, why are the results what they are?\n",
    "* Is the disparity correlated to pay-type? job status? job type?\n",
    "* What is the cause of the disparity?\n",
    "\n",
    "The sections below approach each of these questions, giving a feel for what's involved in answering them."
   ]
  },
  {
   "cell_type": "markdown",
   "metadata": {
    "slideshow": {
     "slide_type": "slide"
    }
   },
   "source": [
    "### Is the name-to-gender assignment correct?\n",
    "\n",
    "* How many names are borderline male/female?\n",
    "* Does it make sense to incorporate name usage from all years in the dataset? (1880-2017?)\n",
    "\n",
    "The plot below shows the distribution of 'proportions of names being female.' \n",
    "* The bar near 0 are counts of names that are almost entirely male. \n",
    "* The bar near 1 are counts of names that are almost entirely female. \n",
    "* There are very few names in the middle that are gender-neutral.\n",
    "\n",
    "However, each unit plotted is a distinct name; the proportions hide the number of people with each name. What if the most popular name in the country is gender-neutral?\n",
    "\n",
    "What's more appropriate is to look at this distribution of confidence among the dataset of employees."
   ]
  },
  {
   "cell_type": "code",
   "execution_count": 14,
   "metadata": {},
   "outputs": [
    {
     "data": {
      "image/png": "[encoded data removed]",
      "text/plain": [
       "<Figure size 640x480 with 1 Axes>"
      ]
     },
     "metadata": {},
     "output_type": "display_data"
    }
   ],
   "source": [
    "title = 'distribution of gendered-ness of names\\n 0 = masculine \\n 1 = feminine'\n",
    "prop_female.plot(kind='hist', bins=20, title=title);"
   ]
  },
  {
   "cell_type": "markdown",
   "metadata": {
    "slideshow": {
     "slide_type": "slide"
    }
   },
   "source": [
    "### Assessment of the join?\n",
    "\n",
    "* Are there names in the salary dataset that aren't in the SSA dataset?\n",
    "    - Who might not be in the SSA dataset? \n",
    "    - Might these names be biased toward certain salaries?\n",
    "* Does the salary dataset have a disproportionately large portion of gender-neutral names.\n",
    "* Is it better to use a subset of the SSA dataset (e.g. by state? by year?)\n",
    "    - Do the gender of names typically vary by geography or over time?\n",
    "    \n",
    "The proportion of employees not in the SSA data is 3.5%, which is fairly small, but may affect the results. These individuals should be investigated more closely; a look at the employees with a gender assigned versus those that didn't appear in the SSA names dataset reveals some bias (see table below). \n",
    "\n",
    "Perhaps those that didn't appear in the names dataset have lower salaries because they belong to an uncommon ethnic group (e.g. an immigrant group)? Such populations would likely work in jobs that earn lower salaries. One could \n",
    "further clean up these missing genders by incorporating the demographic information from immigration data.\n"
   ]
  },
  {
   "cell_type": "code",
   "execution_count": 15,
   "metadata": {
    "scrolled": false
   },
   "outputs": [
    {
     "data": {
      "text/html": [
       "<div>\n",
       "<style scoped>\n",
       "    .dataframe tbody tr th:only-of-type {\n",
       "        vertical-align: middle;\n",
       "    }\n",
       "\n",
       "    .dataframe tbody tr th {\n",
       "        vertical-align: top;\n",
       "    }\n",
       "\n",
       "    .dataframe thead th {\n",
       "        text-align: right;\n",
       "    }\n",
       "</style>\n",
       "<table border=\"1\" class=\"dataframe\">\n",
       "  <thead>\n",
       "    <tr style=\"text-align: right;\">\n",
       "      <th>joined</th>\n",
       "      <th>False</th>\n",
       "      <th>True</th>\n",
       "    </tr>\n",
       "  </thead>\n",
       "  <tbody>\n",
       "    <tr>\n",
       "      <th>count</th>\n",
       "      <td>445.000000</td>\n",
       "      <td>12048.000000</td>\n",
       "    </tr>\n",
       "    <tr>\n",
       "      <th>mean</th>\n",
       "      <td>57033.523596</td>\n",
       "      <td>65278.662434</td>\n",
       "    </tr>\n",
       "    <tr>\n",
       "      <th>std</th>\n",
       "      <td>38261.845670</td>\n",
       "      <td>41910.973914</td>\n",
       "    </tr>\n",
       "    <tr>\n",
       "      <th>...</th>\n",
       "      <td>...</td>\n",
       "      <td>...</td>\n",
       "    </tr>\n",
       "    <tr>\n",
       "      <th>50%</th>\n",
       "      <td>55282.000000</td>\n",
       "      <td>61650.500000</td>\n",
       "    </tr>\n",
       "    <tr>\n",
       "      <th>75%</th>\n",
       "      <td>78970.000000</td>\n",
       "      <td>91895.000000</td>\n",
       "    </tr>\n",
       "    <tr>\n",
       "      <th>max</th>\n",
       "      <td>194920.000000</td>\n",
       "      <td>323377.000000</td>\n",
       "    </tr>\n",
       "  </tbody>\n",
       "</table>\n",
       "<p>8 rows × 2 columns</p>\n",
       "</div>"
      ],
      "text/plain": [
       "joined          False          True \n",
       "count      445.000000   12048.000000\n",
       "mean     57033.523596   65278.662434\n",
       "std      38261.845670   41910.973914\n",
       "...               ...            ...\n",
       "50%      55282.000000   61650.500000\n",
       "75%      78970.000000   91895.000000\n",
       "max     194920.000000  323377.000000\n",
       "\n",
       "[8 rows x 2 columns]"
      ]
     },
     "execution_count": 15,
     "metadata": {},
     "output_type": "execute_result"
    }
   ],
   "source": [
    "# proportion of employees not in SSA dataset\n",
    "# salaries_with_gender['gender'].isnull().mean()\n",
    "\n",
    "# Description of total pay by joined vs not joined\n",
    "(\n",
    "    salaries_with_gender\n",
    "    .assign(joined=salaries_with_gender['gender'].notnull())\n",
    "    .groupby('joined')['Total Pay']\n",
    "    .describe()\n",
    "    .T\n",
    ")"
   ]
  },
  {
   "cell_type": "code",
   "execution_count": 16,
   "metadata": {
    "scrolled": false
   },
   "outputs": [
    {
     "data": {
      "image/png": "[encoded data removed]",
      "text/plain": [
       "<Figure size 640x480 with 1 Axes>"
      ]
     },
     "metadata": {},
     "output_type": "display_data"
    }
   ],
   "source": [
    "nonjoins = salaries_with_gender.loc[salaries_with_gender['gender'].isnull()]\n",
    "\n",
    "title = 'Distribution of Salaries'\n",
    "nonjoins['Total Pay'].plot(kind='hist', bins=50, alpha=0.5, density=True, sharex=True)\n",
    "salaries_with_gender['Total Pay'].plot(kind='hist', bins=50, alpha=0.5, density=True, sharex=True, title=title)\n",
    "plt.legend(['Not in SSA','All']);"
   ]
  },
  {
   "cell_type": "markdown",
   "metadata": {
    "slideshow": {
     "slide_type": "slide"
    }
   },
   "source": [
    "### Why does pay disparity exist?\n",
    "\n",
    "Is the pay disparity correlated to another field? job status? job type? Is the proportion of women in a job type correlated to pay? One approach might ask if women earn similar salaries as men for a given job type.\n",
    "\n",
    "Below, a few job types are isolated for investigation. For example, those who work in 'Fire' related fields tend to be male and make high salaries:"
   ]
  },
  {
   "cell_type": "code",
   "execution_count": 17,
   "metadata": {
    "scrolled": false
   },
   "outputs": [
    {
     "data": {
      "text/html": [
       "<div>\n",
       "<style scoped>\n",
       "    .dataframe tbody tr th:only-of-type {\n",
       "        vertical-align: middle;\n",
       "    }\n",
       "\n",
       "    .dataframe tbody tr th {\n",
       "        vertical-align: top;\n",
       "    }\n",
       "\n",
       "    .dataframe thead th {\n",
       "        text-align: right;\n",
       "    }\n",
       "</style>\n",
       "<table border=\"1\" class=\"dataframe\">\n",
       "  <thead>\n",
       "    <tr style=\"text-align: right;\">\n",
       "      <th></th>\n",
       "      <th>Employee Name</th>\n",
       "      <th>Job Title</th>\n",
       "      <th>Total Pay</th>\n",
       "      <th>Status</th>\n",
       "      <th>firstname</th>\n",
       "      <th>proportion of a given name that's identified as female</th>\n",
       "      <th>gender</th>\n",
       "    </tr>\n",
       "  </thead>\n",
       "  <tbody>\n",
       "    <tr>\n",
       "      <th>9839</th>\n",
       "      <td>Alan M Cummings</td>\n",
       "      <td>Fire Fighter 2</td>\n",
       "      <td>30470.0</td>\n",
       "      <td>PT</td>\n",
       "      <td>Alan</td>\n",
       "      <td>0.003077</td>\n",
       "      <td>M</td>\n",
       "    </tr>\n",
       "    <tr>\n",
       "      <th>5882</th>\n",
       "      <td>Marco A Romero Valdez</td>\n",
       "      <td>Fire Fighter 1</td>\n",
       "      <td>66152.0</td>\n",
       "      <td>PT</td>\n",
       "      <td>Marco</td>\n",
       "      <td>0.004758</td>\n",
       "      <td>M</td>\n",
       "    </tr>\n",
       "    <tr>\n",
       "      <th>2256</th>\n",
       "      <td>Dylan E Chiu</td>\n",
       "      <td>Fire Engineer</td>\n",
       "      <td>106768.0</td>\n",
       "      <td>FT</td>\n",
       "      <td>Dylan</td>\n",
       "      <td>0.033090</td>\n",
       "      <td>M</td>\n",
       "    </tr>\n",
       "    <tr>\n",
       "      <th>1288</th>\n",
       "      <td>Skip  Reed</td>\n",
       "      <td>Fire Captain</td>\n",
       "      <td>112946.0</td>\n",
       "      <td>FT</td>\n",
       "      <td>Skip</td>\n",
       "      <td>0.000000</td>\n",
       "      <td>M</td>\n",
       "    </tr>\n",
       "    <tr>\n",
       "      <th>1422</th>\n",
       "      <td>David K Conde</td>\n",
       "      <td>Fire Captain</td>\n",
       "      <td>136443.0</td>\n",
       "      <td>PT</td>\n",
       "      <td>David</td>\n",
       "      <td>0.003552</td>\n",
       "      <td>M</td>\n",
       "    </tr>\n",
       "  </tbody>\n",
       "</table>\n",
       "</div>"
      ],
      "text/plain": [
       "              Employee Name       Job Title  Total Pay Status firstname  \\\n",
       "9839        Alan M Cummings  Fire Fighter 2    30470.0     PT      Alan   \n",
       "5882  Marco A Romero Valdez  Fire Fighter 1    66152.0     PT     Marco   \n",
       "2256           Dylan E Chiu   Fire Engineer   106768.0     FT     Dylan   \n",
       "1288             Skip  Reed    Fire Captain   112946.0     FT      Skip   \n",
       "1422          David K Conde    Fire Captain   136443.0     PT     David   \n",
       "\n",
       "      proportion of a given name that's identified as female gender  \n",
       "9839                                           0.003077           M  \n",
       "5882                                           0.004758           M  \n",
       "2256                                           0.033090           M  \n",
       "1288                                           0.000000           M  \n",
       "1422                                           0.003552           M  "
      ]
     },
     "execution_count": 17,
     "metadata": {},
     "output_type": "execute_result"
    }
   ],
   "source": [
    "# select jobs with word 'fire' in them\n",
    "firejobs = salaries_with_gender.loc[salaries_with_gender['Job Title'].str.contains('Fire')]\n",
    "firejobs.sample(5)"
   ]
  },
  {
   "cell_type": "markdown",
   "metadata": {},
   "source": [
    "The proportion of fire-related jobs held by women is only 8.8%, yet fire-related jobs make significantly more than the overall median pay of 61,000USD per year:"
   ]
  },
  {
   "cell_type": "code",
   "execution_count": 18,
   "metadata": {},
   "outputs": [
    {
     "data": {
      "text/plain": [
       "count      1017.000000\n",
       "mean     110967.646018\n",
       "std       49678.113970\n",
       "             ...      \n",
       "50%      112568.000000\n",
       "75%      141502.000000\n",
       "max      323377.000000\n",
       "Name: Total Pay, Length: 8, dtype: float64"
      ]
     },
     "execution_count": 18,
     "metadata": {},
     "output_type": "execute_result"
    }
   ],
   "source": [
    "# Proportion of fire-related jobs held by women\n",
    "#(firejobs['gender'] == 'F').mean()\n",
    "\n",
    "# Pay Statistics for fire-related jobs\n",
    "firejobs['Total Pay'].describe()"
   ]
  },
  {
   "cell_type": "markdown",
   "metadata": {},
   "source": [
    "On the other hand, those with library-related jobs tend to be female and make lower-than-average salaries:"
   ]
  },
  {
   "cell_type": "code",
   "execution_count": 19,
   "metadata": {},
   "outputs": [
    {
     "data": {
      "text/html": [
       "<div>\n",
       "<style scoped>\n",
       "    .dataframe tbody tr th:only-of-type {\n",
       "        vertical-align: middle;\n",
       "    }\n",
       "\n",
       "    .dataframe tbody tr th {\n",
       "        vertical-align: top;\n",
       "    }\n",
       "\n",
       "    .dataframe thead th {\n",
       "        text-align: right;\n",
       "    }\n",
       "</style>\n",
       "<table border=\"1\" class=\"dataframe\">\n",
       "  <thead>\n",
       "    <tr style=\"text-align: right;\">\n",
       "      <th></th>\n",
       "      <th>Employee Name</th>\n",
       "      <th>Job Title</th>\n",
       "      <th>Total Pay</th>\n",
       "      <th>Status</th>\n",
       "      <th>firstname</th>\n",
       "      <th>proportion of a given name that's identified as female</th>\n",
       "      <th>gender</th>\n",
       "    </tr>\n",
       "  </thead>\n",
       "  <tbody>\n",
       "    <tr>\n",
       "      <th>11795</th>\n",
       "      <td>Beatriz  Rovira</td>\n",
       "      <td>Library Aide</td>\n",
       "      <td>5268.0</td>\n",
       "      <td>PT</td>\n",
       "      <td>Beatriz</td>\n",
       "      <td>0.996994</td>\n",
       "      <td>F</td>\n",
       "    </tr>\n",
       "    <tr>\n",
       "      <th>9965</th>\n",
       "      <td>Darryle  Williams</td>\n",
       "      <td>Library Clerk</td>\n",
       "      <td>24326.0</td>\n",
       "      <td>PT</td>\n",
       "      <td>Darryle</td>\n",
       "      <td>0.000000</td>\n",
       "      <td>M</td>\n",
       "    </tr>\n",
       "    <tr>\n",
       "      <th>12181</th>\n",
       "      <td>Heolbare  Reynoso</td>\n",
       "      <td>Library Aide</td>\n",
       "      <td>2467.0</td>\n",
       "      <td>PT</td>\n",
       "      <td>Heolbare</td>\n",
       "      <td>NaN</td>\n",
       "      <td>NaN</td>\n",
       "    </tr>\n",
       "    <tr>\n",
       "      <th>11811</th>\n",
       "      <td>Romulo P Belarmino</td>\n",
       "      <td>Library Aide</td>\n",
       "      <td>5124.0</td>\n",
       "      <td>PT</td>\n",
       "      <td>Romulo</td>\n",
       "      <td>0.000000</td>\n",
       "      <td>M</td>\n",
       "    </tr>\n",
       "    <tr>\n",
       "      <th>11653</th>\n",
       "      <td>Elissa R Livingstone</td>\n",
       "      <td>Library Aide</td>\n",
       "      <td>6393.0</td>\n",
       "      <td>PT</td>\n",
       "      <td>Elissa</td>\n",
       "      <td>1.000000</td>\n",
       "      <td>F</td>\n",
       "    </tr>\n",
       "  </tbody>\n",
       "</table>\n",
       "</div>"
      ],
      "text/plain": [
       "              Employee Name      Job Title  Total Pay Status firstname  \\\n",
       "11795       Beatriz  Rovira   Library Aide     5268.0     PT   Beatriz   \n",
       "9965      Darryle  Williams  Library Clerk    24326.0     PT   Darryle   \n",
       "12181     Heolbare  Reynoso   Library Aide     2467.0     PT  Heolbare   \n",
       "11811    Romulo P Belarmino   Library Aide     5124.0     PT    Romulo   \n",
       "11653  Elissa R Livingstone   Library Aide     6393.0     PT    Elissa   \n",
       "\n",
       "       proportion of a given name that's identified as female gender  \n",
       "11795                                           0.996994           F  \n",
       "9965                                            0.000000           M  \n",
       "12181                                                NaN         NaN  \n",
       "11811                                           0.000000           M  \n",
       "11653                                           1.000000           F  "
      ]
     },
     "execution_count": 19,
     "metadata": {},
     "output_type": "execute_result"
    }
   ],
   "source": [
    "# select jobs with library related jobs\n",
    "libjobs = salaries_with_gender.loc[salaries_with_gender['Job Title'].str.contains('Librar')]\n",
    "libjobs.sample(5)"
   ]
  },
  {
   "cell_type": "markdown",
   "metadata": {},
   "source": [
    "The proportion of library-related jobs held by women is 64%, yet library related jobs make significantly less than the overall median salary:"
   ]
  },
  {
   "cell_type": "code",
   "execution_count": 20,
   "metadata": {},
   "outputs": [
    {
     "data": {
      "text/plain": [
       "count       651.000000\n",
       "mean      30383.377880\n",
       "std       23236.318495\n",
       "             ...      \n",
       "50%       26952.000000\n",
       "75%       43566.000000\n",
       "max      167269.000000\n",
       "Name: Total Pay, Length: 8, dtype: float64"
      ]
     },
     "execution_count": 20,
     "metadata": {},
     "output_type": "execute_result"
    }
   ],
   "source": [
    "# Proportion of library-related jobs held by women\n",
    "#(libjobs['gender'] == 'F').mean()\n",
    "\n",
    "# Pay Statistics for fire-related jobs\n",
    "libjobs['Total Pay'].describe()"
   ]
  },
  {
   "cell_type": "markdown",
   "metadata": {},
   "source": [
    "We see that there can be other factors for pay inequality as well like women working more in low paying jobs (i.e as a librarian) in our case while men working in high paying jobs (fireman), however it's not white and black and further analysis definately needs to be done for such complicated topics "
   ]
  }
 ],
 "metadata": {
  "celltoolbar": "Tags",
  "kernelspec": {
   "display_name": "Python 3 (ipykernel)",
   "language": "python",
   "name": "python3"
  },
  "language_info": {
   "codemirror_mode": {
    "name": "ipython",
    "version": 3
   },
   "file_extension": ".py",
   "mimetype": "text/x-python",
   "name": "python",
   "nbconvert_exporter": "python",
   "pygments_lexer": "ipython3",
   "version": "3.10.6"
  },
  "livereveal": {
   "scroll": true,
   "transition": "none"
  }
 },
 "nbformat": 4,
 "nbformat_minor": 2
}
